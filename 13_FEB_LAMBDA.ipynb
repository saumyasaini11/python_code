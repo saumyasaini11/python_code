{
  "nbformat": 4,
  "nbformat_minor": 0,
  "metadata": {
    "colab": {
      "provenance": [],
      "authorship_tag": "ABX9TyPY7TGENrxBcnE4dyVB/tOZ",
      "include_colab_link": true
    },
    "kernelspec": {
      "name": "python3",
      "display_name": "Python 3"
    },
    "language_info": {
      "name": "python"
    }
  },
  "cells": [
    {
      "cell_type": "markdown",
      "metadata": {
        "id": "view-in-github",
        "colab_type": "text"
      },
      "source": [
        "<a href=\"https://colab.research.google.com/github/saumyasaini11/python_code/blob/main/13_FEB_LAMBDA.ipynb\" target=\"_parent\"><img src=\"https://colab.research.google.com/assets/colab-badge.svg\" alt=\"Open In Colab\"/></a>"
      ]
    },
    {
      "cell_type": "code",
      "execution_count": 17,
      "metadata": {
        "colab": {
          "base_uri": "https://localhost:8080/"
        },
        "id": "3GfSYWOCo26y",
        "outputId": "8cd6ba2d-b450-4f19-8a08-379f9738bf61"
      },
      "outputs": [
        {
          "output_type": "stream",
          "name": "stdout",
          "text": [
            "[2, 4, 6, 8]\n",
            "[4, 8, 12, 16]\n",
            "40\n",
            "[1, 3, 45, 7, 3, 9]\n",
            "no of even numbers are: 3\n",
            "no of odd numbers are: 6\n"
          ]
        }
      ],
      "source": [
        "#lambda and map\n",
        "list_1=[1,2,3,4,5,6,7,8]\n",
        "evens=list(filter(lambda n:n%2==0,list_1))\n",
        "\n",
        "print(evens)\n",
        "\n",
        "operator_1=list(map(lambda n:n*2,evens))\n",
        "print(operator_1)\n",
        "\n",
        "#REDUCE FUNCTION\n",
        "from functools import reduce\n",
        "output_1=reduce(lambda a,b:a+b,operator_1)\n",
        "print(output_1)\n",
        "\n",
        "#wap to extract odd nos. from a list using lamdbda function\n",
        "list_2=[1,12,3,45,6,7,3,2,9]\n",
        "odds=list(filter(lambda n:n%2!=0,list_2))\n",
        "print(odds)\n",
        "\n",
        "def count(list_2):\n",
        "  ev=0\n",
        "  od=0\n",
        "  for i in list_2:\n",
        "    if i%2==0:\n",
        "      ev+=1\n",
        "    else:\n",
        "      od+=1\n",
        "  print('no of even numbers are:',ev)\n",
        "  print('no of odd numbers are:',od)\n",
        "even_odd=count(list_2)\n"
      ]
    }
  ]
}