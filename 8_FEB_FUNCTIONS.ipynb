{
  "nbformat": 4,
  "nbformat_minor": 0,
  "metadata": {
    "colab": {
      "provenance": [],
      "authorship_tag": "ABX9TyOeHR75ONn7EPphO5OSfdAE",
      "include_colab_link": true
    },
    "kernelspec": {
      "name": "python3",
      "display_name": "Python 3"
    },
    "language_info": {
      "name": "python"
    }
  },
  "cells": [
    {
      "cell_type": "markdown",
      "metadata": {
        "id": "view-in-github",
        "colab_type": "text"
      },
      "source": [
        "<a href=\"https://colab.research.google.com/github/saumyasaini11/python_code/blob/main/8_FEB_FUNCTIONS.ipynb\" target=\"_parent\"><img src=\"https://colab.research.google.com/assets/colab-badge.svg\" alt=\"Open In Colab\"/></a>"
      ]
    },
    {
      "cell_type": "code",
      "execution_count": 2,
      "metadata": {
        "colab": {
          "base_uri": "https://localhost:8080/"
        },
        "id": "tCTVcV4W1BUq",
        "outputId": "86709f99-5edb-45a4-fdb5-b2c789a1223c"
      },
      "outputs": [
        {
          "output_type": "stream",
          "name": "stdout",
          "text": [
            "25\n",
            "17\n",
            "50\n",
            "100\n",
            "[2, 3, 4, 5, 6, 7, 8]\n",
            "[2, 3, 4, 5, 6, 7, 8, 90]\n",
            "Frequency of this is 2\n",
            "Frequency of is is 4\n",
            "Frequency of a is 2\n",
            "Frequency of picture is 1\n",
            "Frequency of beautiful is 1\n",
            "None\n",
            "Count of all characters in alliswell  is :{'a': 1, 'l': 4, 'i': 1, 's': 1, 'w': 1, 'e': 1}\n",
            "None\n",
            "Count of all characters in helloHELLO  is :{'h': 2, 'e': 2, 'l': 4, 'o': 2}\n",
            "None\n"
          ]
        }
      ],
      "source": [
        "def square(n):\n",
        "  return n**2\n",
        "def sum(a,b):\n",
        "  square(a)  #a=square(a)\n",
        "  return a+b\n",
        "\n",
        "result=square\n",
        "print(result(5))\n",
        "summation=sum(10,7)\n",
        "print(summation)\n",
        "\n",
        "##global and local variable\n",
        "\n",
        "num_1=100    #global: declared outside of a function\n",
        "def summ():\n",
        "  num_1=50   # local: declared inside a function\n",
        "  print(num_1) #50\n",
        "def summm():\n",
        "  print(num_1) #100\n",
        "\n",
        "summ()\n",
        "summm()\n",
        "\n",
        "list_1=[1,2,3,4,5,6,7,8]\n",
        "def list_del():\n",
        "  del list_1[0]\n",
        "  return list_1\n",
        "\n",
        "def list_append():\n",
        "  list_1.append(90)\n",
        "  return list_1\n",
        "list_del()\n",
        "print(list_1)\n",
        "list_append()\n",
        "print(list_1)\n",
        "\n",
        "#wap that calculates the frequency of words in a sentence using functions\n",
        "#a=this is a picture this is beautiful\n",
        "\n",
        "def frequency(a):\n",
        "  word=a.split()\n",
        "  list_1=[]\n",
        "  for i in word:\n",
        "    if i not in list_1 :\n",
        "      list_1.append(i)\n",
        "  for i in range(0,len(list_1)):\n",
        "      print('Frequency of' ,list_1[i], 'is',a.count(list_1[i]))\n",
        "\n",
        "\n",
        "a=\"this is a picture this is beautiful\"\n",
        "print(frequency(a))\n",
        "\n",
        "##wap to calculate the frequency of characters in a string\n",
        "def count(str_1):\n",
        "  freq = {}\n",
        "  for i in str_1:\n",
        "    if i in freq:\n",
        "        freq[i] += 1\n",
        "    else:\n",
        "        freq[i] = 1\n",
        "  print('Count of all characters in', str_1,' is :' + str(freq))\n",
        "\n",
        "str_1='alliswell'\n",
        "print(count(str_1))\n",
        "\n",
        "##wap to calculate the frequency of characters in a string\n",
        "def count(str_1):\n",
        "  freq = {}\n",
        "  for i in str_1.lower():\n",
        "    if i in freq:\n",
        "        freq[i] += 1\n",
        "    else:\n",
        "        freq[i] = 1\n",
        "  print('Count of all characters in', str_1,' is :' + str(freq))\n",
        "\n",
        "str_1='helloHELLO'\n",
        "print(count(str_1))"
      ]
    }
  ]
}