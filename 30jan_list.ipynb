{
  "nbformat": 4,
  "nbformat_minor": 0,
  "metadata": {
    "colab": {
      "provenance": [],
      "authorship_tag": "ABX9TyPgP/4QMbVArpfR7IpLr7Lq",
      "include_colab_link": true
    },
    "kernelspec": {
      "name": "python3",
      "display_name": "Python 3"
    },
    "language_info": {
      "name": "python"
    }
  },
  "cells": [
    {
      "cell_type": "markdown",
      "metadata": {
        "id": "view-in-github",
        "colab_type": "text"
      },
      "source": [
        "<a href=\"https://colab.research.google.com/github/saumyasaini11/python_code/blob/main/30jan_list.ipynb\" target=\"_parent\"><img src=\"https://colab.research.google.com/assets/colab-badge.svg\" alt=\"Open In Colab\"/></a>"
      ]
    },
    {
      "cell_type": "code",
      "execution_count": 1,
      "metadata": {
        "colab": {
          "base_uri": "https://localhost:8080/"
        },
        "id": "uhk1hZ3gbHlC",
        "outputId": "f1227ae2-6b83-4e12-decb-668b2de296dd"
      },
      "outputs": [
        {
          "output_type": "stream",
          "name": "stdout",
          "text": [
            "['a', 'bc', 70, 1.23]\n",
            "a\n",
            "['bc', 70]\n",
            "[70, 1.23]\n",
            "['a', 'bc', 70, 1.23, 'a', 'bc', 70, 1.23]\n",
            "['a', 'bc', 70, 1.23, 'd', 70]\n",
            "saumya\n",
            "shivanya\n",
            "['saumya', 'shivanya', 'alia']\n",
            "['saumya', 'shivanya', 'alia', 'rahul', 'alia', 'ajay']\n",
            "['Jai Shree Ram', 'saumya', 'shivanya', 'alia', 'rahul', 'alia', 'ajay']\n",
            "1\n",
            "2\n",
            "3\n",
            "4\n",
            "5\n",
            "6\n",
            "7\n",
            "1\n",
            "2\n",
            "3\n",
            "4\n",
            "5\n",
            "6\n",
            "7\n"
          ]
        }
      ],
      "source": [
        "list=['a','bc',70,1.23]\n",
        "list2=['d',70]\n",
        "print(list)\n",
        "print(list[0])\n",
        "print(list[1:3])\n",
        "print(list[2:])\n",
        "print(list*2)\n",
        "print(list+list2)\n",
        "\n",
        "name=['saumya','shivanya','dev','rahul','alia']\n",
        "print(name[0])\n",
        "print(name[-4])\n",
        "name[2]='alia'\n",
        "print(name[0:3])\n",
        "name.append('ajay')\n",
        "print(name)\n",
        "name.insert(0,'Jai Shree Ram')\n",
        "print(name)\n",
        "\n",
        "num_list=[1,2,3,4,5,6,7]\n",
        "for i in num_list:\n",
        "    print(i)\n",
        "\n",
        "i=1\n",
        "while i<=len(num_list):\n",
        "    print(i)\n",
        "    i+=1\n",
        "\n"
      ]
    }
  ]
}