{
  "nbformat": 4,
  "nbformat_minor": 0,
  "metadata": {
    "colab": {
      "provenance": [],
      "authorship_tag": "ABX9TyP2QthWIQbwCZoLcwbYE2B8",
      "include_colab_link": true
    },
    "kernelspec": {
      "name": "python3",
      "display_name": "Python 3"
    },
    "language_info": {
      "name": "python"
    }
  },
  "cells": [
    {
      "cell_type": "markdown",
      "metadata": {
        "id": "view-in-github",
        "colab_type": "text"
      },
      "source": [
        "<a href=\"https://colab.research.google.com/github/saumyasaini11/python_code/blob/main/python1.ipynb\" target=\"_parent\"><img src=\"https://colab.research.google.com/assets/colab-badge.svg\" alt=\"Open In Colab\"/></a>"
      ]
    },
    {
      "cell_type": "code",
      "execution_count": null,
      "metadata": {
        "id": "lSBGXFTdyH8x"
      },
      "outputs": [],
      "source": [
        "#wap to create your biodataand use the input fcx\n",
        "name=input(\"Enter your name \")\n",
        "sap=int(input(\"Enter sap id \"))\n",
        "address=input('Enter address ')\n",
        "cllg=int(input(\"enter cllg year \"))\n",
        "yr=int(input(\"enter your semester \"))\n",
        "pin=int(input(\"enter pincode \"))\n",
        "email=input(\"enter cllg email id \")\n",
        "#wap to carry various operations on a string there should be atleast 20 operations\n",
        "a=\"Hello there!\"\n",
        "b='how are you'\n",
        "print(a+b)\n",
        "print(a*3)\n",
        "print(a.lower())\n",
        "print(b.upper())\n",
        "print(b.capitalize())\n",
        "print(a.count(\"l\"))\n",
        "print(b.find('o'))\n",
        "print(id(a))\n",
        "print(len(b))\n",
        "print(a.swapcase())\n",
        "print(b.title())\n",
        "print(a.index('o'))\n",
        "\n"
      ]
    }
  ]
}