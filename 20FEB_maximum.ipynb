{
  "nbformat": 4,
  "nbformat_minor": 0,
  "metadata": {
    "colab": {
      "provenance": [],
      "mount_file_id": "1_AC4OVngxmE4C5MElu5uIIXxmIRdBv7O",
      "authorship_tag": "ABX9TyMPnQXJ9wd7smxkzoYJXgBl",
      "include_colab_link": true
    },
    "kernelspec": {
      "name": "python3",
      "display_name": "Python 3"
    },
    "language_info": {
      "name": "python"
    }
  },
  "cells": [
    {
      "cell_type": "markdown",
      "metadata": {
        "id": "view-in-github",
        "colab_type": "text"
      },
      "source": [
        "<a href=\"https://colab.research.google.com/github/saumyasaini11/python_code/blob/main/20FEB_maximum.ipynb\" target=\"_parent\"><img src=\"https://colab.research.google.com/assets/colab-badge.svg\" alt=\"Open In Colab\"/></a>"
      ]
    },
    {
      "cell_type": "code",
      "execution_count": 1,
      "metadata": {
        "colab": {
          "base_uri": "https://localhost:8080/"
        },
        "id": "2Sy9HMh3pfXV",
        "outputId": "570ab3e0-3bc5-4dc9-8a67-ad303c0a6537"
      },
      "outputs": [
        {
          "output_type": "stream",
          "name": "stdout",
          "text": [
            "max value is 79\n"
          ]
        },
        {
          "output_type": "execute_result",
          "data": {
            "text/plain": [
              "9"
            ]
          },
          "metadata": {},
          "execution_count": 1
        }
      ],
      "source": [
        "#wap to find maximum\n",
        "\n",
        "list_1=[2,3,54,6,5,7,6,4,3,78,79,77]\n",
        "num=list_1[0]\n",
        "for i in range(len( list_1)):\n",
        "  for i in list_1:\n",
        "    if i>num:\n",
        "      num=i\n",
        "print('max value is',num)\n",
        "\n",
        "\n",
        "##using function\n",
        "def maximum(num):\n",
        "  a=list_2[0]\n",
        "  for i in list_2:\n",
        "    if i>a:\n",
        "      a=i\n",
        "  return a\n",
        "\n",
        "list_2=[2,4,5,6,7,8,9,3]\n",
        "maximum(list_2)\n"
      ]
    },
    {
      "cell_type": "code",
      "source": [
        "from google.colab import drive\n",
        "drive.mount('/content/drive')"
      ],
      "metadata": {
        "colab": {
          "base_uri": "https://localhost:8080/"
        },
        "id": "wnJkt6ohx0Ph",
        "outputId": "bf06743e-c120-42f5-b47d-cfc6dc3a2dad"
      },
      "execution_count": 4,
      "outputs": [
        {
          "output_type": "stream",
          "name": "stdout",
          "text": [
            "Drive already mounted at /content/drive; to attempt to forcibly remount, call drive.mount(\"/content/drive\", force_remount=True).\n"
          ]
        }
      ]
    }
  ]
}