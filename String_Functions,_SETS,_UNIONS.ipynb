{
  "nbformat": 4,
  "nbformat_minor": 0,
  "metadata": {
    "colab": {
      "provenance": [],
      "authorship_tag": "ABX9TyOtYwCoucJad4nMT9Sz1yn/",
      "include_colab_link": true
    },
    "kernelspec": {
      "name": "python3",
      "display_name": "Python 3"
    },
    "language_info": {
      "name": "python"
    }
  },
  "cells": [
    {
      "cell_type": "markdown",
      "metadata": {
        "id": "view-in-github",
        "colab_type": "text"
      },
      "source": [
        "<a href=\"https://colab.research.google.com/github/saumyasaini11/python_code/blob/main/String_Functions%2C_SETS%2C_UNIONS.ipynb\" target=\"_parent\"><img src=\"https://colab.research.google.com/assets/colab-badge.svg\" alt=\"Open In Colab\"/></a>"
      ]
    },
    {
      "cell_type": "code",
      "execution_count": 1,
      "metadata": {
        "id": "jm5aFWx29LAO",
        "colab": {
          "base_uri": "https://localhost:8080/"
        },
        "outputId": "39b00d38-864b-4880-c60f-911da89dc940"
      },
      "outputs": [
        {
          "output_type": "stream",
          "name": "stdout",
          "text": [
            "(0, 'H')\n",
            "(1, 'E')\n",
            "(2, 'L')\n",
            "(3, 'L')\n",
            "(4, 'O')\n",
            "(5, ' ')\n",
            "(6, 'H')\n",
            "(7, 'O')\n",
            "(8, 'W')\n",
            "(9, ' ')\n",
            "(10, 'A')\n",
            "(11, 'R')\n",
            "(12, 'E')\n",
            "(13, ' ')\n",
            "(14, 'Y')\n",
            "(15, 'O')\n",
            "(16, 'U')\n",
            "(17, '?')\n"
          ]
        }
      ],
      "source": [
        "mystr='HELLO HOW ARE YOU?'\n",
        "for i in enumerate(mystr):\n",
        " print(i)"
      ]
    },
    {
      "cell_type": "code",
      "source": [
        "# Combining string & numbers using format method\n",
        "item_1 = 40\n",
        "item_2 = 55\n",
        "item_3 = 77\n",
        "res = \"Cost of item 1 , item 2 and item 3 are {} , {} and {}\"\n",
        "print(res.format(item_1,item_2,item_3))\n"
      ],
      "metadata": {
        "colab": {
          "base_uri": "https://localhost:8080/"
        },
        "id": "UmkBWyfbWneQ",
        "outputId": "0a27f3bd-73b8-4245-8dd1-059d4a3c7145"
      },
      "execution_count": 3,
      "outputs": [
        {
          "output_type": "stream",
          "name": "stdout",
          "text": [
            "Cost of item 1 , item 2 and item 3 are 40 , 55 and 77\n"
          ]
        }
      ]
    },
    {
      "cell_type": "code",
      "source": [
        "# Combining string & numbers using format method....(ALTERNATE METHOD)\n",
        "item1 = 40\n",
        "item2 = 55\n",
        "item3 = 77\n",
        "res = \"Cost of item3 , item2 and item1 are {2} , {1} and {0}\"\n",
        "print(res.format(item1,item2,item3))"
      ],
      "metadata": {
        "colab": {
          "base_uri": "https://localhost:8080/"
        },
        "id": "4wbIR4uRXaG_",
        "outputId": "20e6671a-7078-439d-cda8-eabf86138bd8"
      },
      "execution_count": 4,
      "outputs": [
        {
          "output_type": "stream",
          "name": "stdout",
          "text": [
            "Cost of item3 , item2 and item1 are 77 , 55 and 40\n"
          ]
        }
      ]
    },
    {
      "cell_type": "code",
      "source": [
        "#centre function\n",
        "str2 = \" WELCOME EVERYONE \"\n",
        "str2 = str2.center(100,'*') # center align the string using a specific character\n",
        "print(str2)\n",
        "\n",
        "\n",
        "str2 = \" WELCOME EVERYONE \"\n",
        "str2 = str2.center(100) # center align the string using a specific character as the command.\n",
        "print(str2)\n"
      ],
      "metadata": {
        "colab": {
          "base_uri": "https://localhost:8080/"
        },
        "id": "CvAYoRvDXoNI",
        "outputId": "c4b22ff4-bbca-4e18-88e8-a2744193dd8c"
      },
      "execution_count": 5,
      "outputs": [
        {
          "output_type": "stream",
          "name": "stdout",
          "text": [
            "***************************************** WELCOME EVERYONE *****************************************\n",
            "                                          WELCOME EVERYONE                                          \n"
          ]
        }
      ]
    },
    {
      "cell_type": "code",
      "source": [
        "#just function\n",
        "str2 = \" WELCOME EVERYONE \"\n",
        "str2 = str2.rjust(50,'*') # Right align the string using a specific character ('*')\n",
        "print(str2)"
      ],
      "metadata": {
        "colab": {
          "base_uri": "https://localhost:8080/"
        },
        "id": "Ri4ohDWUX7Ov",
        "outputId": "4f997102-d590-4a31-96ba-9c1b410f2147"
      },
      "execution_count": 6,
      "outputs": [
        {
          "output_type": "stream",
          "name": "stdout",
          "text": [
            "******************************** WELCOME EVERYONE \n"
          ]
        }
      ]
    },
    {
      "cell_type": "code",
      "source": [
        "print(\"My favourite TV Series is \\\"Game of Thrones\\\"\")\n",
        "#to print text in double quotes"
      ],
      "metadata": {
        "colab": {
          "base_uri": "https://localhost:8080/"
        },
        "id": "p1A1QErhYaD4",
        "outputId": "90fa6f43-1d67-443e-a111-9007ea45adab"
      },
      "execution_count": 10,
      "outputs": [
        {
          "output_type": "stream",
          "name": "stdout",
          "text": [
            "My favourite TV Series is \"Game of Thrones\"\n"
          ]
        }
      ]
    },
    {
      "cell_type": "code",
      "source": [
        "#TUPLES\n",
        "'''\n",
        "1. Tuple is similar to List except that the objects in tuple are immutable which means we cannot\n",
        "change the elements of a tuple once assigned.\n",
        "2. When we do not want to change the data over time, tuple is a preferred data type.\n",
        "3. Iterating over the elements of a tuple is faster compared to iterating over a list.'''\n",
        "\n",
        "#Sets\n",
        "'''\n",
        "1) Unordered & Unindexed collection of items.\n",
        "2) Set elements are unique. Duplicate elements are not allowed.\n",
        "3) Set \"elements\" are immutable (cannot be changed).\n",
        "4)\" Set itself is mutable\". We can add or remove items from it'''\n",
        "\n",
        "myset = {'one', 'two', 'three', 'four', 'five', 'six', 'seven', 'eight'}\n",
        "myset.add('NINE') # Add item to a set using add() method\n",
        "myset\n",
        "\n",
        "myset.remove('NINE') # remove item in a set using remove() method\n",
        "myset\n",
        "\n",
        "myset.discard('TEN') # remove item from a set using discard() method\n",
        "myset"
      ],
      "metadata": {
        "colab": {
          "base_uri": "https://localhost:8080/"
        },
        "id": "RNnn4xaYZeXJ",
        "outputId": "a550e658-59d7-423b-c68e-e213a3ed1cf7"
      },
      "execution_count": 11,
      "outputs": [
        {
          "output_type": "execute_result",
          "data": {
            "text/plain": [
              "{'eight', 'five', 'four', 'one', 'seven', 'six', 'three', 'two'}"
            ]
          },
          "metadata": {},
          "execution_count": 11
        }
      ]
    },
    {
      "cell_type": "code",
      "source": [
        "#UNIONS\n",
        "A = {1,2,3,4,5}\n",
        "B = {4,5,6,7,8}\n",
        "C = {8,9,10}\n",
        "print(A|B|C)\n",
        "print(A|C)\n",
        "print(A|B)\n",
        "\n",
        "#intersection\n",
        "print(A & B) # Intersection of A and B (Common items in both sets)"
      ],
      "metadata": {
        "colab": {
          "base_uri": "https://localhost:8080/"
        },
        "id": "MMaZwVBafxov",
        "outputId": "7bfc6038-58d5-4e6f-954f-503fcb6cfba7"
      },
      "execution_count": 16,
      "outputs": [
        {
          "output_type": "stream",
          "name": "stdout",
          "text": [
            "{1, 2, 3, 4, 5, 6, 7, 8, 9, 10}\n",
            "{1, 2, 3, 4, 5, 8, 9, 10}\n",
            "{1, 2, 3, 4, 5, 6, 7, 8}\n",
            "{4, 5}\n"
          ]
        }
      ]
    },
    {
      "cell_type": "code",
      "source": [
        "#symmetric difference\n",
        "print(A ^ B) # Symmetric difference (Set of elements in A and B but not in both."
      ],
      "metadata": {
        "colab": {
          "base_uri": "https://localhost:8080/"
        },
        "id": "HNen5kwciWfK",
        "outputId": "cdefb945-691d-4174-b392-c79ebd3c8629"
      },
      "execution_count": 17,
      "outputs": [
        {
          "output_type": "stream",
          "name": "stdout",
          "text": [
            "{1, 2, 3, 6, 7, 8}\n"
          ]
        }
      ]
    },
    {
      "cell_type": "code",
      "source": [
        "#dictionary\n",
        "double = {i:i*2 for i in range(10)} #double each value using dict comprehension\n",
        "print(double)\n",
        "\n",
        "key = ['one' , 'two' , 'three' , 'four' , 'five']\n",
        "value = [1,2,3,4,5]\n",
        "mydict = {k:v for (k,v) in zip(key,value)} # using dict comprehension to create d\n",
        "mydict"
      ],
      "metadata": {
        "colab": {
          "base_uri": "https://localhost:8080/"
        },
        "id": "80UKDjf4ius5",
        "outputId": "9543a655-f559-4e3b-d4e8-4cf2ac2f3ebc"
      },
      "execution_count": 18,
      "outputs": [
        {
          "output_type": "stream",
          "name": "stdout",
          "text": [
            "{0: 0, 1: 2, 2: 4, 3: 6, 4: 8, 5: 10, 6: 12, 7: 14, 8: 16, 9: 18}\n"
          ]
        },
        {
          "output_type": "execute_result",
          "data": {
            "text/plain": [
              "{'one': 1, 'two': 2, 'three': 3, 'four': 4, 'five': 5}"
            ]
          },
          "metadata": {},
          "execution_count": 18
        }
      ]
    },
    {
      "cell_type": "code",
      "source": [
        "mydict = {'a':10 , 'b':20 , 'c':30 , 'd':40 , 'e':50}\n",
        "mydict = {k:v for (k,v) in mydict1.items()}\n",
        "mydict\n"
      ],
      "metadata": {
        "colab": {
          "base_uri": "https://localhost:8080/"
        },
        "id": "Je2Rt4DfjlMI",
        "outputId": "6adec331-d6da-4e84-c860-0d534f3b5217"
      },
      "execution_count": 23,
      "outputs": [
        {
          "output_type": "execute_result",
          "data": {
            "text/plain": [
              "{'a': 10, 'b': 20, 'c': 30, 'd': 40, 'e': 50}"
            ]
          },
          "metadata": {},
          "execution_count": 23
        }
      ]
    },
    {
      "cell_type": "code",
      "source": [
        "################################Calculate frequenct of each word#############################\n",
        "mylist1 =\"hello everyone!\" # Unique values in a list\n",
        "\n",
        "count1 = [0] * len(mylist1)\n",
        "mydict5 = dict()\n",
        "for i in range(len(mylist1)):\n",
        "  for j in range(len(mylist1)):\n",
        "    if mylist1[i] == mylist1[j]:\n",
        "      count1[i] += 1\n",
        "    mydict5[mylist1[i]] = count1[i]\n",
        "print(mydict5)"
      ],
      "metadata": {
        "colab": {
          "base_uri": "https://localhost:8080/"
        },
        "id": "K3KxJWYlj8sY",
        "outputId": "f0198420-20ce-4052-a791-483249264bde"
      },
      "execution_count": 29,
      "outputs": [
        {
          "output_type": "stream",
          "name": "stdout",
          "text": [
            "{'h': 1, 'e': 4, 'l': 2, 'o': 2, ' ': 1, 'v': 1, 'r': 1, 'y': 1, 'n': 1, '!': 1}\n"
          ]
        }
      ]
    },
    {
      "cell_type": "code",
      "source": [
        "#####################Lambda################################\n",
        "'''\n",
        "A lambda function is an anonymous function (function without a name).\n",
        "Lambda functions can have any number of arguments but only one expression. The\n",
        "expression is evaluated and returned.\n",
        "We use lambda functions when we require a nameless function for a short period of time.\n",
        "'''"
      ],
      "metadata": {
        "id": "ZFzmAdZilC62"
      },
      "execution_count": null,
      "outputs": []
    },
    {
      "cell_type": "code",
      "source": [],
      "metadata": {
        "id": "aC1XA20NlMo5"
      },
      "execution_count": null,
      "outputs": []
    }
  ]
}