{
  "nbformat": 4,
  "nbformat_minor": 0,
  "metadata": {
    "colab": {
      "provenance": [],
      "authorship_tag": "ABX9TyNPBbQdt1FqdvzI4tSLycv8",
      "include_colab_link": true
    },
    "kernelspec": {
      "name": "python3",
      "display_name": "Python 3"
    },
    "language_info": {
      "name": "python"
    }
  },
  "cells": [
    {
      "cell_type": "markdown",
      "metadata": {
        "id": "view-in-github",
        "colab_type": "text"
      },
      "source": [
        "<a href=\"https://colab.research.google.com/github/saumyasaini11/python_code/blob/main/10_FEB_RECURSION.ipynb\" target=\"_parent\"><img src=\"https://colab.research.google.com/assets/colab-badge.svg\" alt=\"Open In Colab\"/></a>"
      ]
    },
    {
      "cell_type": "code",
      "execution_count": null,
      "metadata": {
        "id": "sdW4jyst2Y2P"
      },
      "outputs": [],
      "source": [
        "#write a function to find factorial of a number\n",
        "\n",
        "def factorial(a):\n",
        "    if(a==0 or a==1):\n",
        "        print(1)\n",
        "    else:\n",
        "        c=1\n",
        "        for i in range (2,a+1):\n",
        "            c*=i\n",
        "        print(c)\n",
        "\n",
        "a=int(input(\"Enter a: \"))\n",
        "factorial(a)\n",
        "\n",
        "\n",
        "#waf for fibonacci series\n",
        "def fibonacci(n):\n",
        "    a=0\n",
        "    b=1\n",
        "    print(a,b)\n",
        "    for c in range(1,n+1):\n",
        "        c=a+b\n",
        "        a=b\n",
        "        b=c\n",
        "        print(c)\n",
        "fibonacci(7)\n",
        "\n",
        "#waf to find if a number is prime and even\n",
        "\n",
        "def primeeven(num):\n",
        "    if (num%2==0 or num>1):\n",
        "        for i in range(2,num):\n",
        "            if(num%i==0):\n",
        "                print(num,\"is not a prime number\")\n",
        "            else:\n",
        "                print(num,\"is a prime number\")\n",
        "        print(num,\"number is even\")\n",
        "    else:\n",
        "        num==1\n",
        "\n",
        "        print(num,\" is not a  prime\")\n",
        "\n",
        "\n",
        "num=int(input(\"enter the number\"))\n",
        "primeeven(num)\n",
        "\n",
        "#recursion\n",
        "def recur_fib(n):\n",
        "  if n<=1:\n",
        "     return n\n",
        "  else:\n",
        "    return (recur_fib(n-1) + recur_fib(n-2))\n",
        "  nterms =10\n",
        "  if nterms<=0:\n",
        "    print (\" enter the number \")\n",
        "  else:\n",
        "    print (\" Fibonacci series \")\n",
        "    for i in range(nterms):\n",
        "      print(recur_fib(i))\n",
        "\n",
        "\n",
        "#wap for to find sum of a list using recursion\n",
        "def func(numbers):\n",
        "    if not numbers:\n",
        "        return 0\n",
        "    else:\n",
        "       return numbers[0] + func(numbers[1:])\n",
        "elements = [1, 2, 3, 4, 5]\n",
        "total_sum = func(elements)\n",
        "print(f\"The sum of elements in the list is: {total_sum}\")"
      ]
    }
  ]
}