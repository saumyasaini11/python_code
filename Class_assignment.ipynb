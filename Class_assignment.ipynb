{
  "cells": [
    {
      "cell_type": "markdown",
      "metadata": {
        "id": "view-in-github",
        "colab_type": "text"
      },
      "source": [
        "<a href=\"https://colab.research.google.com/github/saumyasaini11/python_code/blob/main/Class_assignment.ipynb\" target=\"_parent\"><img src=\"https://colab.research.google.com/assets/colab-badge.svg\" alt=\"Open In Colab\"/></a>"
      ]
    },
    {
      "cell_type": "code",
      "execution_count": 3,
      "metadata": {
        "colab": {
          "base_uri": "https://localhost:8080/"
        },
        "id": "Uv_8N_5FDkDa",
        "outputId": "2bf11eae-dc4b-4900-9562-af3d1d1dec93"
      },
      "outputs": [
        {
          "output_type": "stream",
          "name": "stdout",
          "text": [
            "enter the side of the square5\n",
            "the area of square is  25\n",
            "the perimeter of the square is  100\n",
            "50\n",
            "enter the number 4\n",
            "24\n",
            "Table\n",
            "2\n",
            "4\n",
            "6\n",
            "8\n",
            "10\n",
            "12\n",
            "14\n",
            "16\n",
            "18\n",
            "20\n"
          ]
        }
      ],
      "source": [
        "\n",
        "#wap using  class to calculate area and perimter of a square\n",
        "class square:\n",
        "  def area(self,l):\n",
        "    self.l = l\n",
        "    print(\"the area of square is \",self.l*self.l)\n",
        "  def perimeter(self , b):\n",
        "    self.b = b\n",
        "    print(\"the perimeter of the square is \",4*self.b*self.b)\n",
        "s = square()\n",
        "m = int (input (\"enter the side of the square\"))\n",
        "s.area(m)\n",
        "s.perimeter(m)\n",
        "\n",
        "class rectangle:\n",
        "  def area(self,l,b):\n",
        "    self.l = l\n",
        "    self.b=b\n",
        "    print(self.l*self.b)\n",
        "r=rectangle()\n",
        "r.area(10,5)\n",
        "\n",
        "#wap using class to calculate factorial of a number\n",
        "class factorial_cal:\n",
        "    def calculate_factorial(self, n):\n",
        "        if n < 0:\n",
        "            return \"Factorial is not defined for negative numbers\"\n",
        "        elif n == 0:\n",
        "            return 1\n",
        "        else:\n",
        "            result = 1\n",
        "            for i in range(1, n + 1):\n",
        "                result *= i\n",
        "            return result\n",
        "\n",
        "\n",
        "calculator = factorial_cal()\n",
        "number = int(input(\"enter the number \"))\n",
        "factorial_result = calculator.calculate_factorial(number)\n",
        "print(factorial_result)\n",
        "\n",
        "class Math:\n",
        "    n=0.0\n",
        "    def table(self):\n",
        "        print(\"Table\")\n",
        "        for i in range(1,11):\n",
        "            a=i*self.n\n",
        "            print(a)\n",
        "\n",
        "    def factorial(self):\n",
        "        if self.n == 0 or self.n == 1:\n",
        "            print(1)\n",
        "        else:\n",
        "            c = 1\n",
        "            for i in range(2, self.n + 1):\n",
        "                c = c * i\n",
        "            print(\"Factorial of the number: \",c)\n",
        "math=Math()\n",
        "math.n=2\n",
        "math.table()"
      ]
    }
  ],
  "metadata": {
    "colab": {
      "provenance": [],
      "authorship_tag": "ABX9TyPv1fKjNN5x1KLuuTU5JWSf",
      "include_colab_link": true
    },
    "kernelspec": {
      "display_name": "Python 3",
      "name": "python3"
    },
    "language_info": {
      "name": "python"
    }
  },
  "nbformat": 4,
  "nbformat_minor": 0
}