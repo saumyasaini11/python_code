{
  "nbformat": 4,
  "nbformat_minor": 0,
  "metadata": {
    "colab": {
      "provenance": [],
      "authorship_tag": "ABX9TyOZzSKt0VhRWo17XQScE9C/",
      "include_colab_link": true
    },
    "kernelspec": {
      "name": "python3",
      "display_name": "Python 3"
    },
    "language_info": {
      "name": "python"
    }
  },
  "cells": [
    {
      "cell_type": "markdown",
      "metadata": {
        "id": "view-in-github",
        "colab_type": "text"
      },
      "source": [
        "<a href=\"https://colab.research.google.com/github/saumyasaini11/python_code/blob/main/FEB_6_FUNCTIONS.ipynb\" target=\"_parent\"><img src=\"https://colab.research.google.com/assets/colab-badge.svg\" alt=\"Open In Colab\"/></a>"
      ]
    },
    {
      "cell_type": "code",
      "execution_count": 12,
      "metadata": {
        "colab": {
          "base_uri": "https://localhost:8080/"
        },
        "id": "UiTZi8zSh8ic",
        "outputId": "dd90bf31-d977-46c0-ee70-a129b3dafc94"
      },
      "outputs": [
        {
          "output_type": "stream",
          "name": "stdout",
          "text": [
            "enter a string: saumya\n",
            "aymuas\n"
          ]
        }
      ],
      "source": [
        "#WAP THAT DOES ARTHMETIC OPERATIONS\n",
        "def add():\n",
        "  c=a+b\n",
        "  print(c)\n",
        "def sub():\n",
        "  c=a-b\n",
        "  print(c)\n",
        "def mul():\n",
        "  c=a*b\n",
        "  print(c)\n",
        "def div():\n",
        "  c=a/b\n",
        "  print(c)\n",
        "while(True):\n",
        "  a=int(input('enter first number: '))\n",
        "  b=int(input('enter second number: '))\n",
        "  print('addition of numbers')\n",
        "  add()\n",
        "  print('subtration of numbers')\n",
        "  sub()\n",
        "  print('multiplication of numbers')\n",
        "  mul()\n",
        "  print('division of numbers')\n",
        "  div()\n",
        "\n",
        "###\n",
        "#emoji converter\n",
        "#message=input(enter)\n",
        "def emoji_converter(message):\n",
        "    words = message.split(' ') #converts input message into list of words\n",
        "#create an emoji dictionery use windows logo key + dot(.) to add emojis\n",
        "    emojis = {\n",
        "        \":)\" : \"😄\" ,\n",
        "        \"(:\" : \" 😥\"\n",
        "        }\n",
        "    output =''\n",
        "    for word in words:\n",
        "        output+=emojis.get(word,word)+\" \"\n",
        "    print(output)\n",
        "\n",
        "message=input('enter the message')\n",
        "emoji_converter(message)\n",
        "\n",
        "\n",
        "#wap to reverse the string\n",
        "a=input('enter a string: ')\n",
        "print(a[::-1])\n",
        "\n",
        "\n",
        "\n",
        "\n",
        "\n",
        "\n",
        "\n"
      ]
    }
  ]
}