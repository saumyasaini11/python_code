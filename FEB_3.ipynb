{
  "nbformat": 4,
  "nbformat_minor": 0,
  "metadata": {
    "colab": {
      "provenance": [],
      "authorship_tag": "ABX9TyPROQj4wrotu77/ep5gE1Bk",
      "include_colab_link": true
    },
    "kernelspec": {
      "name": "python3",
      "display_name": "Python 3"
    },
    "language_info": {
      "name": "python"
    }
  },
  "cells": [
    {
      "cell_type": "markdown",
      "metadata": {
        "id": "view-in-github",
        "colab_type": "text"
      },
      "source": [
        "<a href=\"https://colab.research.google.com/github/saumyasaini11/python_code/blob/main/FEB_3.ipynb\" target=\"_parent\"><img src=\"https://colab.research.google.com/assets/colab-badge.svg\" alt=\"Open In Colab\"/></a>"
      ]
    },
    {
      "cell_type": "code",
      "execution_count": 28,
      "metadata": {
        "colab": {
          "base_uri": "https://localhost:8080/"
        },
        "id": "x7wDUU32Cret",
        "outputId": "9c6dd013-e7de-4988-c99e-66697d323fd7"
      },
      "outputs": [
        {
          "output_type": "stream",
          "name": "stdout",
          "text": [
            "[2, 3, 5, 7, 11, 13, 17, 19, 23, 29, 31, 37, 41, 43, 47, 53, 59, 61, 67, 71, 73, 79, 83, 89, 97]\n",
            "[2, 3, 4, 5, 6, 7, 8, 9]\n",
            "[9, 3, 4, 5, 6, 7, 8, 2]\n",
            "[2, 2, 2, 5, 6, 4, 3, 2, 4, 4, 5, 5, 6, 1, 7]\n",
            "[1, 2, 3, 4, 5, 6, 7]\n"
          ]
        }
      ],
      "source": [
        "#wap to creat a list of prime numbers\n",
        "num=[]\n",
        "for i in range (2,100):\n",
        "  a=True\n",
        "  for k in range (2,i):\n",
        "      if i%k==0:\n",
        "        a=False\n",
        "  if a:\n",
        "    num.append(i)\n",
        "print(num)\n",
        "#wap to sawp first and last digits\n",
        "l1=[2,3,4,5,6,7,8,9]\n",
        "print(l1)\n",
        "a=l1[0]\n",
        "b=l1[-1]\n",
        "l1[0]=b\n",
        "l1[-1]=a\n",
        "print(l1)\n",
        "\n",
        "#wap to remove duplicate from list and sort\n",
        "l=[2,2,2,5,6,4,3,2,4,4,5,5,6,1,7]\n",
        "a=[]\n",
        "for i in l:\n",
        "    if i not in a:\n",
        "        a.append(i)\n",
        "        a.sort()\n",
        "print(l)\n",
        "print(a)"
      ]
    }
  ]
}